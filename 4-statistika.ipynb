{
 "cells": [
  {
   "cell_type": "markdown",
   "metadata": {},
   "source": [
    "# Sample with unequal probabilites"
   ]
  },
  {
   "cell_type": "code",
   "execution_count": 2,
   "metadata": {},
   "outputs": [
    {
     "name": "stdout",
     "output_type": "stream",
     "text": [
      "Sample: ['C' 'C' 'D' 'C' 'D' 'D' 'C' 'D' 'D' 'D']\n"
     ]
    }
   ],
   "source": [
    "import numpy as np\n",
    "\n",
    "# Define the population and their corresponding probabilities\n",
    "population = ['A', 'B', 'C', 'D']\n",
    "probabilities = [0.1, 0.2, 0.3, 0.4]\n",
    "\n",
    "# Generate a sample of size 10 with the given probabilities\n",
    "sample_size = 10\n",
    "sample = np.random.choice(population, size=sample_size, p=probabilities)\n",
    "\n",
    "print(\"Sample:\", sample)"
   ]
  },
  {
   "cell_type": "code",
   "execution_count": 3,
   "metadata": {},
   "outputs": [
    {
     "name": "stdout",
     "output_type": "stream",
     "text": [
      "Stocks: ['AAPL', 'MSFT', 'GOOGL', 'AMZN']\n",
      "Market Caps: [2500000000000.0, 2300000000000.0, 1800000000000.0, 1700000000000.0]\n",
      "Probabilities: [0.30120481927710846, 0.27710843373493976, 0.21686746987951808, 0.20481927710843373]\n",
      "Generated Sample: ['AAPL', 'MSFT', 'GOOGL', 'AMZN', 'AMZN', 'AAPL', 'AMZN', 'GOOGL', 'AAPL', 'MSFT']\n"
     ]
    }
   ],
   "source": [
    "import random\n",
    "\n",
    "# Example financial data (stocks and their market caps)\n",
    "stocks = ['AAPL', 'MSFT', 'GOOGL', 'AMZN']\n",
    "market_caps = [2.5e12, 2.3e12, 1.8e12, 1.7e12]  # Example market caps in trillions\n",
    "\n",
    "# Normalize market caps to probabilities (weights must sum to 1)\n",
    "total_market_cap = sum(market_caps)\n",
    "probabilities = [cap / total_market_cap for cap in market_caps]\n",
    "\n",
    "# Generate a sample with unequal probabilities\n",
    "sample_size = 10\n",
    "sample = random.choices(stocks, weights=probabilities, k=sample_size)\n",
    "\n",
    "# Print the results\n",
    "print(\"Stocks:\", stocks)\n",
    "print(\"Market Caps:\", market_caps)\n",
    "print(\"Probabilities:\", probabilities)\n",
    "print(\"Generated Sample:\", sample)"
   ]
  },
  {
   "cell_type": "markdown",
   "metadata": {},
   "source": []
  }
 ],
 "metadata": {
  "kernelspec": {
   "display_name": "Python 3",
   "language": "python",
   "name": "python3"
  },
  "language_info": {
   "codemirror_mode": {
    "name": "ipython",
    "version": 3
   },
   "file_extension": ".py",
   "mimetype": "text/x-python",
   "name": "python",
   "nbconvert_exporter": "python",
   "pygments_lexer": "ipython3",
   "version": "3.8.10"
  }
 },
 "nbformat": 4,
 "nbformat_minor": 2
}
